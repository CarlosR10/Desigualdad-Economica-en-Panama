{
 "cells": [
  {
   "cell_type": "markdown",
   "id": "ed6b2846",
   "metadata": {},
   "source": [
    "Samsung Innovation Campus (SIC 2024)\n",
    "Nombre del Proyecto: Migración de la población a la capital debido a la Desigualdad Económica en Panamá\n",
    "Grupo: Data Wizards Gang\n",
    "Conformado por: \n",
    "1. Justin Williams\n",
    "2. Carlos Rodríguez Chong\n",
    "3. José Luis Camarena\n",
    "4. Oscar Pérez\n",
    "5. Alejandro Cardona"
   ]
  },
  {
   "cell_type": "markdown",
   "id": "cb1e0587",
   "metadata": {},
   "source": [
    "Problema a resolver:\n",
    "Panamá tiene una alta migración a la capital debido a la desigualdad económica que se presenta a lo largo de las pronvincias debido a diferentes factores como el PIB por provincia, desempleo, el nivel de educación y la actividad económica en las provincias. En este miniproyecto nos enfocaremos al estudio de estas variables para ver realmente el impacto que tienen y como se puede idear una solución a este problema. Los datos fueron obtenidos del Instituto Nacional de Estadística y Censo de los años 2015 al 2022 para hacer el estudio.\n"
   ]
  },
  {
   "cell_type": "code",
   "execution_count": null,
   "id": "2f12ff81",
   "metadata": {},
   "outputs": [],
   "source": [
    "#Promedio del valor económico por Provincia\n",
    "import pandas as pd\n",
    "import plotly.express as px\n",
    "\n",
    "# Cargar el archivo Excel en un DataFrame de pandas\n",
    "df = pd.read_excel('Datos/valor_economico_por_provincia_2015_2022.xlsx')\n",
    "\n",
    "# Obtener las columnas numéricas para calcular el promedio\n",
    "columnas_numericas = df.select_dtypes(include=['float64', 'int64']).columns\n",
    "\n",
    "# Calcular el promedio por provincia\n",
    "df_mean = df[columnas_numericas].mean(axis=1)\n",
    "df_mean = pd.DataFrame(df_mean, columns=['Promedio'])\n",
    "\n",
    "# Agregar la columna de provincias\n",
    "df_mean['Provincia'] = df['region']\n",
    "\n",
    "# Graficar los datos utilizando plotly.express\n",
    "fig = px.bar(df_mean, x='Provincia', y='Promedio', title='Promedio del valor económico por provincia')\n",
    "fig.update_layout(xaxis_title='Provincia', yaxis_title='Promedio Valor Económico')\n",
    "fig.show()"
   ]
  },
  {
   "cell_type": "code",
   "execution_count": null,
   "id": "0f7107a6",
   "metadata": {},
   "outputs": [],
   "source": [
    "import pandas as pd\n",
    "import plotly.express as px\n",
    "\n",
    "# Cargar los datos desde el archivo Excel\n",
    "archivo_excel = 'Datos\\estudiantes.xlsx'\n",
    "datos_por_provincia = pd.read_excel(archivo_excel, sheet_name=None)\n",
    "\n",
    "# Inicializar un diccionario para almacenar los totales de estudiantes reprobados por provincia\n",
    "totales_por_provincia = {}\n",
    "\n",
    "# Iterar sobre cada hoja del Excel (cada año)\n",
    "for año, datos in datos_por_provincia.items():\n",
    "    # Calcular el total de estudiantes reprobados por provincia para este año\n",
    "    for index, fila in datos.iterrows():\n",
    "        provincia = fila['region']\n",
    "        reprobados = fila['total_reprobados']\n",
    "        if provincia in totales_por_provincia:\n",
    "            totales_por_provincia[provincia] += reprobados\n",
    "        else:\n",
    "            totales_por_provincia[provincia] = reprobados\n",
    "\n",
    "# Convertir el diccionario a un DataFrame\n",
    "totales_df = pd.DataFrame(list(totales_por_provincia.items()), columns=['Provincia', 'Total Reprobados'])\n",
    "\n",
    "# Graficar el total de estudiantes reprobados por provincia\n",
    "fig = px.bar(totales_df, x='Provincia', y='Total Reprobados', title='Total de Estudiantes Reprobados por Provincia')\n",
    "fig.show()"
   ]
  },
  {
   "cell_type": "code",
   "execution_count": null,
   "id": "ffb45f59",
   "metadata": {},
   "outputs": [],
   "source": [
    "import pandas as pd\n",
    "import plotly.express as px\n",
    "\n",
    "# Leer el archivo Excel\n",
    "archivo_excel = 'Datos/trabajadores_por_educacion_por_provincia_2015_2022.xlsx'\n",
    "datos = pd.read_excel(archivo_excel, sheet_name=None)\n",
    "\n",
    "# Inicializar diccionario para almacenar el total de trabajadores y trabajadores universitarios por año\n",
    "total_trabajadores_por_año = {}\n",
    "trabajadores_universitarios_por_año = {}\n",
    "\n",
    "# Recorrer cada hoja del archivo Excel\n",
    "for año, df in datos.items():\n",
    "    # Sumar el total de trabajadores y trabajadores universitarios para cada año\n",
    "    total_trabajadores_por_año[año] = df['total_trabajadores'].sum()\n",
    "    trabajadores_universitarios_por_año[año] = df['trabajadores_universitarios'].sum()\n",
    "\n",
    "# Convertir diccionarios a DataFrames\n",
    "df_total_trabajadores = pd.DataFrame(total_trabajadores_por_año.items(), columns=['Año', 'Total_Trabajadores'])\n",
    "df_trabajadores_universitarios = pd.DataFrame(trabajadores_universitarios_por_año.items(), columns=['Año', 'Trabajadores_Universitarios'])\n",
    "\n",
    "# Unir los DataFrames\n",
    "df_porcentaje = pd.merge(df_total_trabajadores, df_trabajadores_universitarios, on='Año')\n",
    "\n",
    "# Calcular el porcentaje de trabajadores universitarios respecto al total de trabajadores\n",
    "df_porcentaje['Porcentaje_Trabajadores_Universitarios'] = (df_porcentaje['Trabajadores_Universitarios'] / df_porcentaje['Total_Trabajadores']) * 100\n",
    "\n",
    "# Graficar con plotly.express\n",
    "fig = px.line(df_porcentaje, x='Año', y='Porcentaje_Trabajadores_Universitarios', title='Porcentaje de Trabajadores Universitarios vs Total de Trabajadores por Año')\n",
    "fig.update_xaxes(title='Año')\n",
    "fig.update_yaxes(title='Porcentaje de Trabajadores Universitarios')\n",
    "fig.show()"
   ]
  },
  {
   "cell_type": "markdown",
   "id": "01d82d04",
   "metadata": {},
   "source": [
    "Solución:\n",
    "En base los datos analizados por llegar a la conclusión que no solo la preparación de los profesionales influye sino también las actividades económicas que poseen las provincias. Debido a esto una solución óptima sería trasladar empresas o abrir nuevas en lugares donde la población es alta y se puede explotar el capital humano de forma positiva para igualar el salario a nivel nacional brindando las mismas oportunidades a nivel nacional."
   ]
  },
  {
   "cell_type": "code",
   "execution_count": null,
   "id": "2052e6c4",
   "metadata": {},
   "outputs": [],
   "source": []
  },
  {
   "cell_type": "markdown",
   "id": "478f71be",
   "metadata": {},
   "source": [
    "Propuesta de Valor:\n",
    "Sería de gran utilidad poder analizar otros aspectos que no pudimos debido a la data conseguida en el INEC con respecto étnias y sexo que también nos ayudarían a identificar de mejor manera la desigualdad que puede existir entre los salarios. Continuar con el estudio serviría para seguir mitigando la desigualdad económica y evitar la migración a la capital y provincias con mayor desarrollo económico en el país."
   ]
  },
  {
   "cell_type": "code",
   "execution_count": null,
   "id": "756dece6",
   "metadata": {},
   "outputs": [],
   "source": []
  }
 ],
 "metadata": {
  "kernelspec": {
   "display_name": "Python 3 (ipykernel)",
   "language": "python",
   "name": "python3"
  },
  "language_info": {
   "codemirror_mode": {
    "name": "ipython",
    "version": 3
   },
   "file_extension": ".py",
   "mimetype": "text/x-python",
   "name": "python",
   "nbconvert_exporter": "python",
   "pygments_lexer": "ipython3",
   "version": "3.11.5"
  }
 },
 "nbformat": 4,
 "nbformat_minor": 5
}
