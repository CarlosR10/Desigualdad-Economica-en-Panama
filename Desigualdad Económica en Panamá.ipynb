{
 "cells": [
  {
   "cell_type": "markdown",
   "id": "ed6b2846",
   "metadata": {},
   "source": [
    "Samsung Innovation Campus (SIC 2024)\n",
    "Nombre del Proyecto: Desigualdad Económica en Panamá\n",
    "Grupo: Data Wizards Gang\n",
    "Conformado por: \n",
    "1. Justin Williams\n",
    "2. Carlos Rodríguez Chong\n",
    "3. José Luis Camarena\n",
    "4. Oscar Pérez\n",
    "5. Alejandro Cardona"
   ]
  },
  {
   "cell_type": "markdown",
   "id": "cb1e0587",
   "metadata": {},
   "source": [
    "Problema a resolver:\n",
    "(Describir el estudio que queremos hacer y en que afecta la problemática)"
   ]
  },
  {
   "cell_type": "code",
   "execution_count": null,
   "id": "2f12ff81",
   "metadata": {},
   "outputs": [],
   "source": []
  },
  {
   "cell_type": "markdown",
   "id": "01d82d04",
   "metadata": {},
   "source": [
    "Solución:\n",
    "(Colocar gráficas y como cual creemos que es la solución a esta problemática)"
   ]
  },
  {
   "cell_type": "code",
   "execution_count": null,
   "id": "2052e6c4",
   "metadata": {},
   "outputs": [],
   "source": []
  },
  {
   "cell_type": "markdown",
   "id": "478f71be",
   "metadata": {},
   "source": [
    "Propuesta de Valor:"
   ]
  },
  {
   "cell_type": "code",
   "execution_count": null,
   "id": "756dece6",
   "metadata": {},
   "outputs": [],
   "source": []
  }
 ],
 "metadata": {
  "kernelspec": {
   "display_name": "Python 3 (ipykernel)",
   "language": "python",
   "name": "python3"
  },
  "language_info": {
   "codemirror_mode": {
    "name": "ipython",
    "version": 3
   },
   "file_extension": ".py",
   "mimetype": "text/x-python",
   "name": "python",
   "nbconvert_exporter": "python",
   "pygments_lexer": "ipython3",
   "version": "3.11.5"
  }
 },
 "nbformat": 4,
 "nbformat_minor": 5
}
