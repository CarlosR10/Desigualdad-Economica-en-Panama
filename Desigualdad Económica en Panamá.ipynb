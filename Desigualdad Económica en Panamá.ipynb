{
 "cells": [
  {
   "cell_type": "markdown",
   "id": "ed6b2846",
   "metadata": {},
   "source": [
    "*Presentación*"
   ]
  },
  {
   "cell_type": "markdown",
   "id": "cb1e0587",
   "metadata": {},
   "source": [
    "Problema a resolver:"
   ]
  },
  {
   "cell_type": "code",
   "execution_count": null,
   "id": "2f12ff81",
   "metadata": {},
   "outputs": [],
   "source": []
  },
  {
   "cell_type": "markdown",
   "id": "01d82d04",
   "metadata": {},
   "source": [
    "Solución:"
   ]
  },
  {
   "cell_type": "code",
   "execution_count": null,
   "id": "2052e6c4",
   "metadata": {},
   "outputs": [],
   "source": []
  },
  {
   "cell_type": "markdown",
   "id": "478f71be",
   "metadata": {},
   "source": [
    "Propuesta de Valor:"
   ]
  },
  {
   "cell_type": "code",
   "execution_count": null,
   "id": "756dece6",
   "metadata": {},
   "outputs": [],
   "source": []
  }
 ],
 "metadata": {
  "kernelspec": {
   "display_name": "Python 3 (ipykernel)",
   "language": "python",
   "name": "python3"
  },
  "language_info": {
   "codemirror_mode": {
    "name": "ipython",
    "version": 3
   },
   "file_extension": ".py",
   "mimetype": "text/x-python",
   "name": "python",
   "nbconvert_exporter": "python",
   "pygments_lexer": "ipython3",
   "version": "3.11.5"
  }
 },
 "nbformat": 4,
 "nbformat_minor": 5
}
