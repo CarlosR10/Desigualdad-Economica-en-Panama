{
 "cells": [
  {
   "cell_type": "markdown",
   "id": "ed6b2846",
   "metadata": {},
   "source": [
    "Samsung Innovation Campus (SIC 2024)\n",
    "Nombre del Proyecto: Migración de la población a la capital debido a la Desigualdad Económica en Panamá\n",
    "Grupo: Data Wizards Gang\n",
    "Conformado por: \n",
    "1. Justin Williams\n",
    "2. Carlos Rodríguez Chong\n",
    "3. José Luis Camarena\n",
    "4. Oscar Pérez\n",
    "5. Alejandro Cardona"
   ]
  },
  {
   "cell_type": "markdown",
   "id": "cb1e0587",
   "metadata": {},
   "source": [
    "Problema a resolver:\n",
    "Panamá tiene una alta migración a la capital debido a la desigualdad económica que se presenta a lo largo de las pronvincias debido a diferentes factores como el índice de pobreza, el nivel de educación y la actividad económica en las provincias. En este miniproyecto nos enfocaremos al estudio de estas variables para ver realmente el impacto que tienen y como se puede idear una solución a este problema. Los datos fueron obtenidos del Instituto Nacional de Estadística y Censo de los años 2015 al 2022 para hacer el estudio.\n"
   ]
  },
  {
   "cell_type": "code",
   "execution_count": null,
   "id": "2f12ff81",
   "metadata": {},
   "outputs": [],
   "source": []
  },
  {
   "cell_type": "markdown",
   "id": "01d82d04",
   "metadata": {},
   "source": [
    "Solución:\n",
    "(Colocar gráficas y como cual creemos que es la solución a esta problemática)"
   ]
  },
  {
   "cell_type": "code",
   "execution_count": null,
   "id": "2052e6c4",
   "metadata": {},
   "outputs": [],
   "source": []
  },
  {
   "cell_type": "markdown",
   "id": "478f71be",
   "metadata": {},
   "source": [
    "Propuesta de Valor:"
   ]
  },
  {
   "cell_type": "code",
   "execution_count": null,
   "id": "756dece6",
   "metadata": {},
   "outputs": [],
   "source": []
  }
 ],
 "metadata": {
  "kernelspec": {
   "display_name": "Python 3 (ipykernel)",
   "language": "python",
   "name": "python3"
  },
  "language_info": {
   "codemirror_mode": {
    "name": "ipython",
    "version": 3
   },
   "file_extension": ".py",
   "mimetype": "text/x-python",
   "name": "python",
   "nbconvert_exporter": "python",
   "pygments_lexer": "ipython3",
   "version": "3.11.5"
  }
 },
 "nbformat": 4,
 "nbformat_minor": 5
}
